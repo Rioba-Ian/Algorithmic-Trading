{
  "nbformat": 4,
  "nbformat_minor": 0,
  "metadata": {
    "colab": {
      "name": "CAPM using statspy.ipynb",
      "provenance": [],
      "authorship_tag": "ABX9TyPF8ezxCKPZtCSuXHVg1nz7",
      "include_colab_link": true
    },
    "kernelspec": {
      "name": "python3",
      "display_name": "Python 3"
    }
  },
  "cells": [
    {
      "cell_type": "markdown",
      "metadata": {
        "id": "view-in-github",
        "colab_type": "text"
      },
      "source": [
        "<a href=\"https://colab.research.google.com/github/Rioba-Ian/Algorithmic-Trading/blob/main/CAPM_using_statspy.ipynb\" target=\"_parent\"><img src=\"https://colab.research.google.com/assets/colab-badge.svg\" alt=\"Open In Colab\"/></a>"
      ]
    },
    {
      "cell_type": "code",
      "metadata": {
        "id": "X7arBZ1k0yP4"
      },
      "source": [
        "from scipy import stats"
      ],
      "execution_count": 1,
      "outputs": []
    },
    {
      "cell_type": "code",
      "metadata": {
        "colab": {
          "base_uri": "https://localhost:8080/"
        },
        "id": "RUGPDsM110Q2",
        "outputId": "40818cc6-b0f7-4a9d-faee-f207cffceaf8"
      },
      "source": [
        "help(stats.linregress)"
      ],
      "execution_count": 2,
      "outputs": [
        {
          "output_type": "stream",
          "text": [
            "Help on function linregress in module scipy.stats._stats_mstats_common:\n",
            "\n",
            "linregress(x, y=None)\n",
            "    Calculate a linear least-squares regression for two sets of measurements.\n",
            "    \n",
            "    Parameters\n",
            "    ----------\n",
            "    x, y : array_like\n",
            "        Two sets of measurements.  Both arrays should have the same length.  If\n",
            "        only `x` is given (and ``y=None``), then it must be a two-dimensional\n",
            "        array where one dimension has length 2.  The two sets of measurements\n",
            "        are then found by splitting the array along the length-2 dimension.  In\n",
            "        the case where ``y=None`` and `x` is a 2x2 array, ``linregress(x)`` is\n",
            "        equivalent to ``linregress(x[0], x[1])``.\n",
            "    \n",
            "    Returns\n",
            "    -------\n",
            "    slope : float\n",
            "        Slope of the regression line.\n",
            "    intercept : float\n",
            "        Intercept of the regression line.\n",
            "    rvalue : float\n",
            "        Correlation coefficient.\n",
            "    pvalue : float\n",
            "        Two-sided p-value for a hypothesis test whose null hypothesis is\n",
            "        that the slope is zero, using Wald Test with t-distribution of\n",
            "        the test statistic.\n",
            "    stderr : float\n",
            "        Standard error of the estimated gradient.\n",
            "    \n",
            "    See also\n",
            "    --------\n",
            "    :func:`scipy.optimize.curve_fit` : Use non-linear\n",
            "     least squares to fit a function to data.\n",
            "    :func:`scipy.optimize.leastsq` : Minimize the sum of\n",
            "     squares of a set of equations.\n",
            "    \n",
            "    Notes\n",
            "    -----\n",
            "    Missing values are considered pair-wise: if a value is missing in `x`,\n",
            "    the corresponding value in `y` is masked.\n",
            "    \n",
            "    Examples\n",
            "    --------\n",
            "    >>> import matplotlib.pyplot as plt\n",
            "    >>> from scipy import stats\n",
            "    \n",
            "    Generate some data:\n",
            "    \n",
            "    >>> np.random.seed(12345678)\n",
            "    >>> x = np.random.random(10)\n",
            "    >>> y = 1.6*x + np.random.random(10)\n",
            "    \n",
            "    Perform the linear regression:\n",
            "    \n",
            "    >>> slope, intercept, r_value, p_value, std_err = stats.linregress(x, y)\n",
            "    >>> print(\"slope: %f    intercept: %f\" % (slope, intercept))\n",
            "    slope: 1.944864    intercept: 0.268578\n",
            "    \n",
            "    To get coefficient of determination (R-squared):\n",
            "    \n",
            "    >>> print(\"R-squared: %f\" % r_value**2)\n",
            "    R-squared: 0.735498\n",
            "    \n",
            "    Plot the data along with the fitted line:\n",
            "    \n",
            "    >>> plt.plot(x, y, 'o', label='original data')\n",
            "    >>> plt.plot(x, intercept + slope*x, 'r', label='fitted line')\n",
            "    >>> plt.legend()\n",
            "    >>> plt.show()\n",
            "    \n",
            "    Example for the case where only x is provided as a 2x2 array:\n",
            "    \n",
            "    >>> x = np.array([[0, 1], [0, 2]])\n",
            "    >>> r = stats.linregress(x)\n",
            "    >>> r.slope, r.intercept\n",
            "    (2.0, 0.0)\n",
            "\n"
          ],
          "name": "stdout"
        }
      ]
    },
    {
      "cell_type": "code",
      "metadata": {
        "id": "WVDUXwYk16Of"
      },
      "source": [
        "import pandas as pd \n",
        "import pandas_datareader as web"
      ],
      "execution_count": 3,
      "outputs": []
    },
    {
      "cell_type": "code",
      "metadata": {
        "id": "LTUpTdwr2Fde"
      },
      "source": [
        "spy_etf = web.DataReader('SPY', 'yahoo')"
      ],
      "execution_count": 5,
      "outputs": []
    },
    {
      "cell_type": "code",
      "metadata": {
        "colab": {
          "base_uri": "https://localhost:8080/",
          "height": 432
        },
        "id": "z8_t-hyI2Ni5",
        "outputId": "f392a5d0-e398-4dfe-a929-eeec85191ac7"
      },
      "source": [
        "spy_etf"
      ],
      "execution_count": 6,
      "outputs": [
        {
          "output_type": "execute_result",
          "data": {
            "text/html": [
              "<div>\n",
              "<style scoped>\n",
              "    .dataframe tbody tr th:only-of-type {\n",
              "        vertical-align: middle;\n",
              "    }\n",
              "\n",
              "    .dataframe tbody tr th {\n",
              "        vertical-align: top;\n",
              "    }\n",
              "\n",
              "    .dataframe thead th {\n",
              "        text-align: right;\n",
              "    }\n",
              "</style>\n",
              "<table border=\"1\" class=\"dataframe\">\n",
              "  <thead>\n",
              "    <tr style=\"text-align: right;\">\n",
              "      <th></th>\n",
              "      <th>High</th>\n",
              "      <th>Low</th>\n",
              "      <th>Open</th>\n",
              "      <th>Close</th>\n",
              "      <th>Volume</th>\n",
              "      <th>Adj Close</th>\n",
              "    </tr>\n",
              "    <tr>\n",
              "      <th>Date</th>\n",
              "      <th></th>\n",
              "      <th></th>\n",
              "      <th></th>\n",
              "      <th></th>\n",
              "      <th></th>\n",
              "      <th></th>\n",
              "    </tr>\n",
              "  </thead>\n",
              "  <tbody>\n",
              "    <tr>\n",
              "      <th>2016-03-02</th>\n",
              "      <td>199.059998</td>\n",
              "      <td>197.250000</td>\n",
              "      <td>197.740005</td>\n",
              "      <td>199.000000</td>\n",
              "      <td>102415000.0</td>\n",
              "      <td>180.679596</td>\n",
              "    </tr>\n",
              "    <tr>\n",
              "      <th>2016-03-03</th>\n",
              "      <td>199.800003</td>\n",
              "      <td>198.110001</td>\n",
              "      <td>198.789993</td>\n",
              "      <td>199.779999</td>\n",
              "      <td>95172200.0</td>\n",
              "      <td>181.387802</td>\n",
              "    </tr>\n",
              "    <tr>\n",
              "      <th>2016-03-04</th>\n",
              "      <td>201.350006</td>\n",
              "      <td>199.029999</td>\n",
              "      <td>200.009995</td>\n",
              "      <td>200.429993</td>\n",
              "      <td>129293600.0</td>\n",
              "      <td>181.977966</td>\n",
              "    </tr>\n",
              "    <tr>\n",
              "      <th>2016-03-07</th>\n",
              "      <td>201.070007</td>\n",
              "      <td>199.250000</td>\n",
              "      <td>199.339996</td>\n",
              "      <td>200.589996</td>\n",
              "      <td>100219000.0</td>\n",
              "      <td>182.123245</td>\n",
              "    </tr>\n",
              "    <tr>\n",
              "      <th>2016-03-08</th>\n",
              "      <td>199.919998</td>\n",
              "      <td>198.210007</td>\n",
              "      <td>199.320007</td>\n",
              "      <td>198.399994</td>\n",
              "      <td>123974900.0</td>\n",
              "      <td>180.134842</td>\n",
              "    </tr>\n",
              "    <tr>\n",
              "      <th>...</th>\n",
              "      <td>...</td>\n",
              "      <td>...</td>\n",
              "      <td>...</td>\n",
              "      <td>...</td>\n",
              "      <td>...</td>\n",
              "      <td>...</td>\n",
              "    </tr>\n",
              "    <tr>\n",
              "      <th>2021-02-22</th>\n",
              "      <td>389.619995</td>\n",
              "      <td>386.739990</td>\n",
              "      <td>387.059998</td>\n",
              "      <td>387.029999</td>\n",
              "      <td>67160000.0</td>\n",
              "      <td>387.029999</td>\n",
              "    </tr>\n",
              "    <tr>\n",
              "      <th>2021-02-23</th>\n",
              "      <td>388.950012</td>\n",
              "      <td>380.200012</td>\n",
              "      <td>384.660004</td>\n",
              "      <td>387.500000</td>\n",
              "      <td>106997200.0</td>\n",
              "      <td>387.500000</td>\n",
              "    </tr>\n",
              "    <tr>\n",
              "      <th>2021-02-24</th>\n",
              "      <td>392.230011</td>\n",
              "      <td>385.269989</td>\n",
              "      <td>386.329987</td>\n",
              "      <td>391.769989</td>\n",
              "      <td>72226600.0</td>\n",
              "      <td>391.769989</td>\n",
              "    </tr>\n",
              "    <tr>\n",
              "      <th>2021-02-25</th>\n",
              "      <td>391.880005</td>\n",
              "      <td>380.779999</td>\n",
              "      <td>390.410004</td>\n",
              "      <td>382.329987</td>\n",
              "      <td>146086500.0</td>\n",
              "      <td>382.329987</td>\n",
              "    </tr>\n",
              "    <tr>\n",
              "      <th>2021-02-26</th>\n",
              "      <td>385.579987</td>\n",
              "      <td>378.230011</td>\n",
              "      <td>384.350006</td>\n",
              "      <td>380.359985</td>\n",
              "      <td>152534900.0</td>\n",
              "      <td>380.359985</td>\n",
              "    </tr>\n",
              "  </tbody>\n",
              "</table>\n",
              "<p>1257 rows × 6 columns</p>\n",
              "</div>"
            ],
            "text/plain": [
              "                  High         Low  ...       Volume   Adj Close\n",
              "Date                                ...                         \n",
              "2016-03-02  199.059998  197.250000  ...  102415000.0  180.679596\n",
              "2016-03-03  199.800003  198.110001  ...   95172200.0  181.387802\n",
              "2016-03-04  201.350006  199.029999  ...  129293600.0  181.977966\n",
              "2016-03-07  201.070007  199.250000  ...  100219000.0  182.123245\n",
              "2016-03-08  199.919998  198.210007  ...  123974900.0  180.134842\n",
              "...                ...         ...  ...          ...         ...\n",
              "2021-02-22  389.619995  386.739990  ...   67160000.0  387.029999\n",
              "2021-02-23  388.950012  380.200012  ...  106997200.0  387.500000\n",
              "2021-02-24  392.230011  385.269989  ...   72226600.0  391.769989\n",
              "2021-02-25  391.880005  380.779999  ...  146086500.0  382.329987\n",
              "2021-02-26  385.579987  378.230011  ...  152534900.0  380.359985\n",
              "\n",
              "[1257 rows x 6 columns]"
            ]
          },
          "metadata": {
            "tags": []
          },
          "execution_count": 6
        }
      ]
    },
    {
      "cell_type": "code",
      "metadata": {
        "colab": {
          "base_uri": "https://localhost:8080/"
        },
        "id": "hnRGsts22UoA",
        "outputId": "bd867c67-4aff-43ba-ac07-607adc0c0b6d"
      },
      "source": [
        "spy_etf.info()"
      ],
      "execution_count": 7,
      "outputs": [
        {
          "output_type": "stream",
          "text": [
            "<class 'pandas.core.frame.DataFrame'>\n",
            "DatetimeIndex: 1257 entries, 2016-03-02 to 2021-02-26\n",
            "Data columns (total 6 columns):\n",
            " #   Column     Non-Null Count  Dtype  \n",
            "---  ------     --------------  -----  \n",
            " 0   High       1257 non-null   float64\n",
            " 1   Low        1257 non-null   float64\n",
            " 2   Open       1257 non-null   float64\n",
            " 3   Close      1257 non-null   float64\n",
            " 4   Volume     1257 non-null   float64\n",
            " 5   Adj Close  1257 non-null   float64\n",
            "dtypes: float64(6)\n",
            "memory usage: 68.7 KB\n"
          ],
          "name": "stdout"
        }
      ]
    },
    {
      "cell_type": "code",
      "metadata": {
        "id": "A6Bxku_w2e5e"
      },
      "source": [
        "start = pd.to_datetime('2016-03-02')\n",
        "end = pd.to_datetime('2021-02-26')"
      ],
      "execution_count": 8,
      "outputs": []
    },
    {
      "cell_type": "code",
      "metadata": {
        "id": "sFKnK-Vi2ww3"
      },
      "source": [
        "tesla = web.DataReader('TSLA','yahoo', start, end)"
      ],
      "execution_count": 9,
      "outputs": []
    },
    {
      "cell_type": "code",
      "metadata": {
        "colab": {
          "base_uri": "https://localhost:8080/",
          "height": 225
        },
        "id": "ogDxNxRn27Gm",
        "outputId": "8adc466c-bad4-4508-b12f-981f549bd5d3"
      },
      "source": [
        "tesla.head()"
      ],
      "execution_count": 10,
      "outputs": [
        {
          "output_type": "execute_result",
          "data": {
            "text/html": [
              "<div>\n",
              "<style scoped>\n",
              "    .dataframe tbody tr th:only-of-type {\n",
              "        vertical-align: middle;\n",
              "    }\n",
              "\n",
              "    .dataframe tbody tr th {\n",
              "        vertical-align: top;\n",
              "    }\n",
              "\n",
              "    .dataframe thead th {\n",
              "        text-align: right;\n",
              "    }\n",
              "</style>\n",
              "<table border=\"1\" class=\"dataframe\">\n",
              "  <thead>\n",
              "    <tr style=\"text-align: right;\">\n",
              "      <th></th>\n",
              "      <th>High</th>\n",
              "      <th>Low</th>\n",
              "      <th>Open</th>\n",
              "      <th>Close</th>\n",
              "      <th>Volume</th>\n",
              "      <th>Adj Close</th>\n",
              "    </tr>\n",
              "    <tr>\n",
              "      <th>Date</th>\n",
              "      <th></th>\n",
              "      <th></th>\n",
              "      <th></th>\n",
              "      <th></th>\n",
              "      <th></th>\n",
              "      <th></th>\n",
              "    </tr>\n",
              "  </thead>\n",
              "  <tbody>\n",
              "    <tr>\n",
              "      <th>2016-03-02</th>\n",
              "      <td>37.703999</td>\n",
              "      <td>36.299999</td>\n",
              "      <td>36.745998</td>\n",
              "      <td>37.667999</td>\n",
              "      <td>24312000.0</td>\n",
              "      <td>37.667999</td>\n",
              "    </tr>\n",
              "    <tr>\n",
              "      <th>2016-03-03</th>\n",
              "      <td>39.484001</td>\n",
              "      <td>36.844002</td>\n",
              "      <td>37.655998</td>\n",
              "      <td>39.147999</td>\n",
              "      <td>24145000.0</td>\n",
              "      <td>39.147999</td>\n",
              "    </tr>\n",
              "    <tr>\n",
              "      <th>2016-03-04</th>\n",
              "      <td>40.806000</td>\n",
              "      <td>39.500000</td>\n",
              "      <td>39.599998</td>\n",
              "      <td>40.208000</td>\n",
              "      <td>32445500.0</td>\n",
              "      <td>40.208000</td>\n",
              "    </tr>\n",
              "    <tr>\n",
              "      <th>2016-03-07</th>\n",
              "      <td>41.939999</td>\n",
              "      <td>39.480000</td>\n",
              "      <td>39.535999</td>\n",
              "      <td>41.057999</td>\n",
              "      <td>26647000.0</td>\n",
              "      <td>41.057999</td>\n",
              "    </tr>\n",
              "    <tr>\n",
              "      <th>2016-03-08</th>\n",
              "      <td>41.500000</td>\n",
              "      <td>40.439999</td>\n",
              "      <td>40.700001</td>\n",
              "      <td>40.520000</td>\n",
              "      <td>20893500.0</td>\n",
              "      <td>40.520000</td>\n",
              "    </tr>\n",
              "  </tbody>\n",
              "</table>\n",
              "</div>"
            ],
            "text/plain": [
              "                 High        Low       Open      Close      Volume  Adj Close\n",
              "Date                                                                         \n",
              "2016-03-02  37.703999  36.299999  36.745998  37.667999  24312000.0  37.667999\n",
              "2016-03-03  39.484001  36.844002  37.655998  39.147999  24145000.0  39.147999\n",
              "2016-03-04  40.806000  39.500000  39.599998  40.208000  32445500.0  40.208000\n",
              "2016-03-07  41.939999  39.480000  39.535999  41.057999  26647000.0  41.057999\n",
              "2016-03-08  41.500000  40.439999  40.700001  40.520000  20893500.0  40.520000"
            ]
          },
          "metadata": {
            "tags": []
          },
          "execution_count": 10
        }
      ]
    },
    {
      "cell_type": "code",
      "metadata": {
        "id": "4uK4s25329eR"
      },
      "source": [
        "import matplotlib.pyplot as plt\n",
        "%matplotlib inline"
      ],
      "execution_count": 11,
      "outputs": []
    },
    {
      "cell_type": "code",
      "metadata": {
        "colab": {
          "base_uri": "https://localhost:8080/",
          "height": 482
        },
        "id": "72W67N673Img",
        "outputId": "f1d2a1fa-9dbe-4464-8e6a-3ee5998c0e00"
      },
      "source": [
        "tesla['Close'].plot(label='TESLA', figsize=(12,8))\n",
        "spy_etf['Close'].plot(label='SPY Index')\n",
        "plt.legend()"
      ],
      "execution_count": 12,
      "outputs": [
        {
          "output_type": "execute_result",
          "data": {
            "text/plain": [
              "<matplotlib.legend.Legend at 0x7f9413b76a10>"
            ]
          },
          "metadata": {
            "tags": []
          },
          "execution_count": 12
        },
        {
          "output_type": "display_data",
          "data": {
            "image/png": "[encoded data removed]",
            "text/plain": [
              "<Figure size 864x576 with 1 Axes>"
            ]
          },
          "metadata": {
            "tags": [],
            "needs_background": "light"
          }
        }
      ]
    },
    {
      "cell_type": "code",
      "metadata": {
        "id": "vZhuRuGV3c90"
      },
      "source": [
        "tesla['Cumulative'] = tesla['Close']/tesla['Close'].iloc[0]\n",
        "spy_etf['Cumulative'] = spy_etf['Close']/spy_etf['Close'].iloc[0]\n"
      ],
      "execution_count": 13,
      "outputs": []
    },
    {
      "cell_type": "code",
      "metadata": {
        "colab": {
          "base_uri": "https://localhost:8080/",
          "height": 482
        },
        "id": "OkRdQo5u31jm",
        "outputId": "6b4873f3-7381-44b1-b721-6e1de9404dc5"
      },
      "source": [
        "tesla['Cumulative'].plot(label='TESLA', figsize=(12,8))\n",
        "spy_etf['Cumulative'].plot(label='SPY')\n",
        "plt.legend()"
      ],
      "execution_count": 14,
      "outputs": [
        {
          "output_type": "execute_result",
          "data": {
            "text/plain": [
              "<matplotlib.legend.Legend at 0x7f94148c93d0>"
            ]
          },
          "metadata": {
            "tags": []
          },
          "execution_count": 14
        },
        {
          "output_type": "display_data",
          "data": {
            "image/png": "[encoded data removed]",
            "text/plain": [
              "<Figure size 864x576 with 1 Axes>"
            ]
          },
          "metadata": {
            "tags": [],
            "needs_background": "light"
          }
        }
      ]
    },
    {
      "cell_type": "code",
      "metadata": {
        "id": "u_cUij_E4HNn"
      },
      "source": [
        "tesla['Daily Return'] = tesla['Close'].pct_change(1)\n",
        "spy_etf['Daily Return'] = spy_etf['Close'].pct_change(1)\n"
      ],
      "execution_count": 15,
      "outputs": []
    },
    {
      "cell_type": "code",
      "metadata": {
        "colab": {
          "base_uri": "https://localhost:8080/",
          "height": 286
        },
        "id": "_HNscgvl4dMu",
        "outputId": "9b1d9276-2bb2-477c-d7f5-99d15a87da1f"
      },
      "source": [
        "plt.scatter(tesla['Daily Return'], spy_etf['Daily Return'], alpha=0.25)"
      ],
      "execution_count": 16,
      "outputs": [
        {
          "output_type": "execute_result",
          "data": {
            "text/plain": [
              "<matplotlib.collections.PathCollection at 0x7f9414e74210>"
            ]
          },
          "metadata": {
            "tags": []
          },
          "execution_count": 16
        },
        {
          "output_type": "display_data",
          "data": {
            "image/png": "[encoded data removed]",
            "text/plain": [
              "<Figure size 432x288 with 1 Axes>"
            ]
          },
          "metadata": {
            "tags": [],
            "needs_background": "light"
          }
        }
      ]
    },
    {
      "cell_type": "code",
      "metadata": {
        "id": "tslLF0B94tiO"
      },
      "source": [
        "beta, alpha, r_value, p_value, std_err = stats.linregress(tesla['Daily Return'].iloc[1:],\n",
        "                                                        spy_etf['Daily Return'].iloc[1:])"
      ],
      "execution_count": 17,
      "outputs": []
    },
    {
      "cell_type": "code",
      "metadata": {
        "colab": {
          "base_uri": "https://localhost:8080/"
        },
        "id": "nAh6J6FA5OgZ",
        "outputId": "611dba77-ad29-4286-8fea-b1c45a5a4258"
      },
      "source": [
        "beta"
      ],
      "execution_count": 18,
      "outputs": [
        {
          "output_type": "execute_result",
          "data": {
            "text/plain": [
              "0.13588859894513036"
            ]
          },
          "metadata": {
            "tags": []
          },
          "execution_count": 18
        }
      ]
    },
    {
      "cell_type": "code",
      "metadata": {
        "colab": {
          "base_uri": "https://localhost:8080/"
        },
        "id": "y0DfTVJ25PyK",
        "outputId": "bec89023-2bf0-4311-8efa-eac4d9033b8f"
      },
      "source": [
        "alpha"
      ],
      "execution_count": 19,
      "outputs": [
        {
          "output_type": "execute_result",
          "data": {
            "text/plain": [
              "0.00018314514920201788"
            ]
          },
          "metadata": {
            "tags": []
          },
          "execution_count": 19
        }
      ]
    },
    {
      "cell_type": "code",
      "metadata": {
        "colab": {
          "base_uri": "https://localhost:8080/"
        },
        "id": "prf82aqm5SJ_",
        "outputId": "f8acfe78-5dec-49da-e9cc-eee2d1e6ab13"
      },
      "source": [
        "r_value"
      ],
      "execution_count": 20,
      "outputs": [
        {
          "output_type": "execute_result",
          "data": {
            "text/plain": [
              "0.42007529403492366"
            ]
          },
          "metadata": {
            "tags": []
          },
          "execution_count": 20
        }
      ]
    },
    {
      "cell_type": "code",
      "metadata": {
        "colab": {
          "base_uri": "https://localhost:8080/"
        },
        "id": "nz577Kd85UJi",
        "outputId": "24954d5a-d5fc-4c7b-a455-178a19ac3fcc"
      },
      "source": [
        "spy_etf['Daily Return'].head()"
      ],
      "execution_count": 21,
      "outputs": [
        {
          "output_type": "execute_result",
          "data": {
            "text/plain": [
              "Date\n",
              "2016-03-02         NaN\n",
              "2016-03-03    0.003920\n",
              "2016-03-04    0.003254\n",
              "2016-03-07    0.000798\n",
              "2016-03-08   -0.010918\n",
              "Name: Daily Return, dtype: float64"
            ]
          },
          "metadata": {
            "tags": []
          },
          "execution_count": 21
        }
      ]
    },
    {
      "cell_type": "code",
      "metadata": {
        "id": "tCZXuGLi5iWP"
      },
      "source": [
        "import numpy as np\n"
      ],
      "execution_count": 22,
      "outputs": []
    },
    {
      "cell_type": "markdown",
      "metadata": {
        "id": "K-HCs0Zn6r6y"
      },
      "source": [
        "We can create a fake stock and see how this aligns with the SPY"
      ]
    },
    {
      "cell_type": "code",
      "metadata": {
        "id": "8FpY2CVh5lDU"
      },
      "source": [
        "noise = np.random.normal(0,0.001, len(spy_etf['Daily Return'].iloc[1:]))"
      ],
      "execution_count": 24,
      "outputs": []
    },
    {
      "cell_type": "code",
      "metadata": {
        "colab": {
          "base_uri": "https://localhost:8080/"
        },
        "id": "y9bCwIja50Vp",
        "outputId": "bafdb175-d210-490d-923e-2574e721e53b"
      },
      "source": [
        "noise"
      ],
      "execution_count": 25,
      "outputs": [
        {
          "output_type": "execute_result",
          "data": {
            "text/plain": [
              "array([-0.00065713, -0.00019835, -0.0002078 , ..., -0.00146176,\n",
              "       -0.00011885, -0.00108883])"
            ]
          },
          "metadata": {
            "tags": []
          },
          "execution_count": 25
        }
      ]
    },
    {
      "cell_type": "code",
      "metadata": {
        "id": "e5GqHEXP54HO"
      },
      "source": [
        "fake_stock = spy_etf['Daily Return'].iloc[1:] + noise"
      ],
      "execution_count": 27,
      "outputs": []
    },
    {
      "cell_type": "code",
      "metadata": {
        "colab": {
          "base_uri": "https://localhost:8080/",
          "height": 286
        },
        "id": "6LbkEv596AlE",
        "outputId": "bd426527-e1c5-4277-a6d4-9f25028f3e98"
      },
      "source": [
        "plt.scatter(fake_stock, spy_etf['Daily Return'].iloc[1:], alpha=0.25)"
      ],
      "execution_count": 28,
      "outputs": [
        {
          "output_type": "execute_result",
          "data": {
            "text/plain": [
              "<matplotlib.collections.PathCollection at 0x7f941478cad0>"
            ]
          },
          "metadata": {
            "tags": []
          },
          "execution_count": 28
        },
        {
          "output_type": "display_data",
          "data": {
            "image/png": "[encoded data removed]",
            "text/plain": [
              "<Figure size 432x288 with 1 Axes>"
            ]
          },
          "metadata": {
            "tags": [],
            "needs_background": "light"
          }
        }
      ]
    },
    {
      "cell_type": "code",
      "metadata": {
        "id": "-qwqGFuS6PK1"
      },
      "source": [
        "beta, alpha, r_value, p_value, std_err = stats.linregress(fake_stock,\n",
        "                                                        spy_etf['Daily Return'].iloc[1:])"
      ],
      "execution_count": 30,
      "outputs": []
    },
    {
      "cell_type": "markdown",
      "metadata": {
        "id": "P_49F87v61c5"
      },
      "source": [
        "The beta is almost the market "
      ]
    },
    {
      "cell_type": "code",
      "metadata": {
        "colab": {
          "base_uri": "https://localhost:8080/"
        },
        "id": "CvUjHx0m6aXG",
        "outputId": "15021984-6d86-4fed-c8d0-5353cd59e6a0"
      },
      "source": [
        "beta"
      ],
      "execution_count": 31,
      "outputs": [
        {
          "output_type": "execute_result",
          "data": {
            "text/plain": [
              "0.9922543222694618"
            ]
          },
          "metadata": {
            "tags": []
          },
          "execution_count": 31
        }
      ]
    },
    {
      "cell_type": "markdown",
      "metadata": {
        "id": "IWnCWraQ7Aaj"
      },
      "source": [
        "A very small alpha value means a good stock"
      ]
    },
    {
      "cell_type": "code",
      "metadata": {
        "colab": {
          "base_uri": "https://localhost:8080/"
        },
        "id": "fjdHYkBP6kAr",
        "outputId": "46e41667-bfe3-4632-d809-e760020f92d2"
      },
      "source": [
        "alpha"
      ],
      "execution_count": 32,
      "outputs": [
        {
          "output_type": "execute_result",
          "data": {
            "text/plain": [
              "5.339491412771375e-05"
            ]
          },
          "metadata": {
            "tags": []
          },
          "execution_count": 32
        }
      ]
    },
    {
      "cell_type": "code",
      "metadata": {
        "id": "z4oNAW2T66NZ"
      },
      "source": [
        ""
      ],
      "execution_count": null,
      "outputs": []
    }
  ]
}